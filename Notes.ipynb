{
 "cells": [
  {
   "cell_type": "code",
   "execution_count": 1,
   "metadata": {},
   "outputs": [],
   "source": [
    "import numpy as np"
   ]
  },
  {
   "attachments": {},
   "cell_type": "markdown",
   "metadata": {},
   "source": [
    "### Comparing Efficiency of Vectorization vs. Not Vectorizing\n",
    "\n",
    "- Takes advantage of parallelization (CPU/GPU) to speed up calculations\n",
    "- Using built-in numpy functions over explicit for loops"
   ]
  },
  {
   "cell_type": "code",
   "execution_count": 2,
   "metadata": {},
   "outputs": [
    {
     "name": "stdout",
     "output_type": "stream",
     "text": [
      "25075.73931544846\n",
      "Vectorized version: 0.053708791732788086ms\n",
      "1789.7919290184022\n",
      "Non-vectorized version: 0.09710693359375ms\n",
      "--------\n",
      "Vectorized version is 0.043398141860961914ms faster\n"
     ]
    }
   ],
   "source": [
    "import time\n",
    "\n",
    "a = np.random.rand(100000)\n",
    "b = np.random.rand(100000)\n",
    "\n",
    "start = time.time()\n",
    "c = np.dot(a, b)\n",
    "end = time.time()\n",
    "\n",
    "print(c)\n",
    "print(f\"Vectorized version: {end - start}ms\")\n",
    "\n",
    "c = 0\n",
    "start1 = time.time()\n",
    "for i in range (100000):\n",
    "  c += a[i] * b[1]\n",
    "end1 = time.time()\n",
    "\n",
    "print(c)\n",
    "print(f\"Non-vectorized version: {end1 - start1}ms\")\n",
    "\n",
    "print(\"--------\")\n",
    "print(f\"Vectorized version is {(end1 - start1) - (end - start)}ms faster\")"
   ]
  },
  {
   "cell_type": "code",
   "execution_count": null,
   "metadata": {},
   "outputs": [],
   "source": []
  }
 ],
 "metadata": {
  "kernelspec": {
   "display_name": "base",
   "language": "python",
   "name": "python3"
  },
  "language_info": {
   "codemirror_mode": {
    "name": "ipython",
    "version": 3
   },
   "file_extension": ".py",
   "mimetype": "text/x-python",
   "name": "python",
   "nbconvert_exporter": "python",
   "pygments_lexer": "ipython3",
   "version": "3.9.7"
  },
  "orig_nbformat": 4
 },
 "nbformat": 4,
 "nbformat_minor": 2
}
